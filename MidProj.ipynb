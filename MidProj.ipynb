{
  "nbformat": 4,
  "nbformat_minor": 0,
  "metadata": {
    "colab": {
      "name": "MidProj.ipynb",
      "provenance": [],
      "collapsed_sections": []
    },
    "kernelspec": {
      "name": "python3",
      "display_name": "Python 3"
    }
  },
  "cells": [
    {
      "cell_type": "code",
      "metadata": {
        "id": "PMWSEllUQSoK",
        "colab_type": "code",
        "outputId": "82478f3d-942b-4f55-d517-a124b42958e7",
        "colab": {
          "base_uri": "https://localhost:8080/",
          "height": 202
        }
      },
      "source": [
        "!wget https://raw.githubusercontent.com/bmontea1/bme_data_science/master/weatherHistory.csv; \\"
      ],
      "execution_count": 1,
      "outputs": [
        {
          "output_type": "stream",
          "text": [
            "--2019-10-07 16:52:18--  https://raw.githubusercontent.com/bmontea1/bme_data_science/master/weatherHistory.csv\n",
            "Resolving raw.githubusercontent.com (raw.githubusercontent.com)... 151.101.0.133, 151.101.64.133, 151.101.128.133, ...\n",
            "Connecting to raw.githubusercontent.com (raw.githubusercontent.com)|151.101.0.133|:443... connected.\n",
            "HTTP request sent, awaiting response... 200 OK\n",
            "Length: 16294377 (16M) [text/plain]\n",
            "Saving to: ‘weatherHistory.csv.7’\n",
            "\n",
            "weatherHistory.csv. 100%[===================>]  15.54M  96.4MB/s    in 0.2s    \n",
            "\n",
            "2019-10-07 16:52:18 (96.4 MB/s) - ‘weatherHistory.csv.7’ saved [16294377/16294377]\n",
            "\n"
          ],
          "name": "stdout"
        }
      ]
    },
    {
      "cell_type": "code",
      "metadata": {
        "id": "6GTbPwNmQZeI",
        "colab_type": "code",
        "colab": {}
      },
      "source": [
        "import pandas as pd\n",
        "import numpy as np\n",
        "import matplotlib.pyplot as plt\n",
        "import sklearn as skl\n",
        "import sklearn.linear_model as lm\n",
        "import statsmodels as sm\n",
        "import statsmodels.formula.api as smf"
      ],
      "execution_count": 0,
      "outputs": []
    },
    {
      "cell_type": "code",
      "metadata": {
        "id": "_ZV--fc3Qcw0",
        "colab_type": "code",
        "outputId": "7362a0d4-9f0e-4c8b-aecc-387824ac7908",
        "colab": {
          "base_uri": "https://localhost:8080/",
          "height": 545
        }
      },
      "source": [
        "dat = pd.read_csv('weatherHistory.csv')\n",
        "print(type(dat))\n",
        "dat.head(10)"
      ],
      "execution_count": 3,
      "outputs": [
        {
          "output_type": "stream",
          "text": [
            "<class 'pandas.core.frame.DataFrame'>\n"
          ],
          "name": "stdout"
        },
        {
          "output_type": "execute_result",
          "data": {
            "text/html": [
              "<div>\n",
              "<style scoped>\n",
              "    .dataframe tbody tr th:only-of-type {\n",
              "        vertical-align: middle;\n",
              "    }\n",
              "\n",
              "    .dataframe tbody tr th {\n",
              "        vertical-align: top;\n",
              "    }\n",
              "\n",
              "    .dataframe thead th {\n",
              "        text-align: right;\n",
              "    }\n",
              "</style>\n",
              "<table border=\"1\" class=\"dataframe\">\n",
              "  <thead>\n",
              "    <tr style=\"text-align: right;\">\n",
              "      <th></th>\n",
              "      <th>Formatted Date</th>\n",
              "      <th>Summary</th>\n",
              "      <th>Precip Type</th>\n",
              "      <th>Temperature (C)</th>\n",
              "      <th>Apparent Temperature (C)</th>\n",
              "      <th>Humidity</th>\n",
              "      <th>Wind Speed (km/h)</th>\n",
              "      <th>Wind Bearing (degrees)</th>\n",
              "      <th>Visibility (km)</th>\n",
              "      <th>Loud Cover</th>\n",
              "      <th>Pressure (millibars)</th>\n",
              "      <th>Daily Summary</th>\n",
              "    </tr>\n",
              "  </thead>\n",
              "  <tbody>\n",
              "    <tr>\n",
              "      <th>0</th>\n",
              "      <td>2006-04-01 00:00:00.000 +0200</td>\n",
              "      <td>Partly Cloudy</td>\n",
              "      <td>rain</td>\n",
              "      <td>9.472222</td>\n",
              "      <td>7.388889</td>\n",
              "      <td>0.89</td>\n",
              "      <td>14.1197</td>\n",
              "      <td>251.0</td>\n",
              "      <td>15.8263</td>\n",
              "      <td>0.0</td>\n",
              "      <td>1015.13</td>\n",
              "      <td>Partly cloudy throughout the day.</td>\n",
              "    </tr>\n",
              "    <tr>\n",
              "      <th>1</th>\n",
              "      <td>2006-04-01 01:00:00.000 +0200</td>\n",
              "      <td>Partly Cloudy</td>\n",
              "      <td>rain</td>\n",
              "      <td>9.355556</td>\n",
              "      <td>7.227778</td>\n",
              "      <td>0.86</td>\n",
              "      <td>14.2646</td>\n",
              "      <td>259.0</td>\n",
              "      <td>15.8263</td>\n",
              "      <td>0.0</td>\n",
              "      <td>1015.63</td>\n",
              "      <td>Partly cloudy throughout the day.</td>\n",
              "    </tr>\n",
              "    <tr>\n",
              "      <th>2</th>\n",
              "      <td>2006-04-01 02:00:00.000 +0200</td>\n",
              "      <td>Mostly Cloudy</td>\n",
              "      <td>rain</td>\n",
              "      <td>9.377778</td>\n",
              "      <td>9.377778</td>\n",
              "      <td>0.89</td>\n",
              "      <td>3.9284</td>\n",
              "      <td>204.0</td>\n",
              "      <td>14.9569</td>\n",
              "      <td>0.0</td>\n",
              "      <td>1015.94</td>\n",
              "      <td>Partly cloudy throughout the day.</td>\n",
              "    </tr>\n",
              "    <tr>\n",
              "      <th>3</th>\n",
              "      <td>2006-04-01 03:00:00.000 +0200</td>\n",
              "      <td>Partly Cloudy</td>\n",
              "      <td>rain</td>\n",
              "      <td>8.288889</td>\n",
              "      <td>5.944444</td>\n",
              "      <td>0.83</td>\n",
              "      <td>14.1036</td>\n",
              "      <td>269.0</td>\n",
              "      <td>15.8263</td>\n",
              "      <td>0.0</td>\n",
              "      <td>1016.41</td>\n",
              "      <td>Partly cloudy throughout the day.</td>\n",
              "    </tr>\n",
              "    <tr>\n",
              "      <th>4</th>\n",
              "      <td>2006-04-01 04:00:00.000 +0200</td>\n",
              "      <td>Mostly Cloudy</td>\n",
              "      <td>rain</td>\n",
              "      <td>8.755556</td>\n",
              "      <td>6.977778</td>\n",
              "      <td>0.83</td>\n",
              "      <td>11.0446</td>\n",
              "      <td>259.0</td>\n",
              "      <td>15.8263</td>\n",
              "      <td>0.0</td>\n",
              "      <td>1016.51</td>\n",
              "      <td>Partly cloudy throughout the day.</td>\n",
              "    </tr>\n",
              "    <tr>\n",
              "      <th>5</th>\n",
              "      <td>2006-04-01 05:00:00.000 +0200</td>\n",
              "      <td>Partly Cloudy</td>\n",
              "      <td>rain</td>\n",
              "      <td>9.222222</td>\n",
              "      <td>7.111111</td>\n",
              "      <td>0.85</td>\n",
              "      <td>13.9587</td>\n",
              "      <td>258.0</td>\n",
              "      <td>14.9569</td>\n",
              "      <td>0.0</td>\n",
              "      <td>1016.66</td>\n",
              "      <td>Partly cloudy throughout the day.</td>\n",
              "    </tr>\n",
              "    <tr>\n",
              "      <th>6</th>\n",
              "      <td>2006-04-01 06:00:00.000 +0200</td>\n",
              "      <td>Partly Cloudy</td>\n",
              "      <td>rain</td>\n",
              "      <td>7.733333</td>\n",
              "      <td>5.522222</td>\n",
              "      <td>0.95</td>\n",
              "      <td>12.3648</td>\n",
              "      <td>259.0</td>\n",
              "      <td>9.9820</td>\n",
              "      <td>0.0</td>\n",
              "      <td>1016.72</td>\n",
              "      <td>Partly cloudy throughout the day.</td>\n",
              "    </tr>\n",
              "    <tr>\n",
              "      <th>7</th>\n",
              "      <td>2006-04-01 07:00:00.000 +0200</td>\n",
              "      <td>Partly Cloudy</td>\n",
              "      <td>rain</td>\n",
              "      <td>8.772222</td>\n",
              "      <td>6.527778</td>\n",
              "      <td>0.89</td>\n",
              "      <td>14.1519</td>\n",
              "      <td>260.0</td>\n",
              "      <td>9.9820</td>\n",
              "      <td>0.0</td>\n",
              "      <td>1016.84</td>\n",
              "      <td>Partly cloudy throughout the day.</td>\n",
              "    </tr>\n",
              "    <tr>\n",
              "      <th>8</th>\n",
              "      <td>2006-04-01 08:00:00.000 +0200</td>\n",
              "      <td>Partly Cloudy</td>\n",
              "      <td>rain</td>\n",
              "      <td>10.822222</td>\n",
              "      <td>10.822222</td>\n",
              "      <td>0.82</td>\n",
              "      <td>11.3183</td>\n",
              "      <td>259.0</td>\n",
              "      <td>9.9820</td>\n",
              "      <td>0.0</td>\n",
              "      <td>1017.37</td>\n",
              "      <td>Partly cloudy throughout the day.</td>\n",
              "    </tr>\n",
              "    <tr>\n",
              "      <th>9</th>\n",
              "      <td>2006-04-01 09:00:00.000 +0200</td>\n",
              "      <td>Partly Cloudy</td>\n",
              "      <td>rain</td>\n",
              "      <td>13.772222</td>\n",
              "      <td>13.772222</td>\n",
              "      <td>0.72</td>\n",
              "      <td>12.5258</td>\n",
              "      <td>279.0</td>\n",
              "      <td>9.9820</td>\n",
              "      <td>0.0</td>\n",
              "      <td>1017.22</td>\n",
              "      <td>Partly cloudy throughout the day.</td>\n",
              "    </tr>\n",
              "  </tbody>\n",
              "</table>\n",
              "</div>"
            ],
            "text/plain": [
              "                  Formatted Date  ...                      Daily Summary\n",
              "0  2006-04-01 00:00:00.000 +0200  ...  Partly cloudy throughout the day.\n",
              "1  2006-04-01 01:00:00.000 +0200  ...  Partly cloudy throughout the day.\n",
              "2  2006-04-01 02:00:00.000 +0200  ...  Partly cloudy throughout the day.\n",
              "3  2006-04-01 03:00:00.000 +0200  ...  Partly cloudy throughout the day.\n",
              "4  2006-04-01 04:00:00.000 +0200  ...  Partly cloudy throughout the day.\n",
              "5  2006-04-01 05:00:00.000 +0200  ...  Partly cloudy throughout the day.\n",
              "6  2006-04-01 06:00:00.000 +0200  ...  Partly cloudy throughout the day.\n",
              "7  2006-04-01 07:00:00.000 +0200  ...  Partly cloudy throughout the day.\n",
              "8  2006-04-01 08:00:00.000 +0200  ...  Partly cloudy throughout the day.\n",
              "9  2006-04-01 09:00:00.000 +0200  ...  Partly cloudy throughout the day.\n",
              "\n",
              "[10 rows x 12 columns]"
            ]
          },
          "metadata": {
            "tags": []
          },
          "execution_count": 3
        }
      ]
    },
    {
      "cell_type": "markdown",
      "metadata": {
        "id": "0atrh5j_Jodv",
        "colab_type": "text"
      },
      "source": [
        "Note: 'rain' here is defined as formation of water droplets 0.05mm in diameter (Source: https://climate.ncsu.edu/edu/PrecipTypes), some of which never make it to the ground. Snow is the same but never melted from formation in the sky, which happens less often."
      ]
    },
    {
      "cell_type": "code",
      "metadata": {
        "id": "LPqaA5oFQ9LP",
        "colab_type": "code",
        "outputId": "982c92c3-251a-4b0d-bc13-697c04eec630",
        "colab": {
          "base_uri": "https://localhost:8080/",
          "height": 84
        }
      },
      "source": [
        "pres = dat['Pressure (millibars)']\n",
        "hum = dat['Humidity']\n",
        "\n",
        "dattt = dat.drop(dat[hum <= 0.1].index)\n",
        "datt = dattt.drop(dat[pres <= 869].index)\n",
        "print('Removed Data Points due to 0 Humidity is:', len(dat[hum <= 0.1].index))\n",
        "print('Removed Data Points due to 0 Pressure is:', len(dat[pres <= 869].index))\n",
        "print('Total Data Points before removing', len(dat))\n",
        "print('Total Data Points after removing', len(datt))\n",
        "prec = np.asarray(datt['Precip Type'])\n",
        "weather = np.asarray(datt[['Temperature (C)', 'Humidity', 'Wind Speed (km/h)', 'Pressure (millibars)', 'Visibility (km)']])\n",
        "\n",
        "temp = np.asarray(datt[['Temperature (C)']])\n",
        "ntemp = temp[0:-1]\n",
        "humi = np.asarray(datt[['Humidity']])\n",
        "nhumi = humi[0:-1]\n",
        "wind = np.asarray(datt[['Wind Speed (km/h)']])\n",
        "nwind = wind[0:-1]\n",
        "pres = np.asarray(datt[['Pressure (millibars)']])\n",
        "npres = pres[0:-1]\n",
        "visi = np.asarray(datt[['Visibility (km)']])\n",
        "nvisi = visi[0:-1]\n",
        "\n",
        "rainy = []\n",
        "for i in range(len(prec)):\n",
        "  if prec[i] == 'rain':\n",
        "    rainy.append(1)\n",
        "  else:\n",
        "    rainy.append(0)\n",
        "\n",
        "nextrain = rainy[1:]    \n",
        "nowweat = weather[0:-1]\n",
        "lastrain = rainy[-1]\n",
        "lastweat = weather[-1:]\n",
        "nrain = np.asarray(nextrain)      \n",
        "\n"
      ],
      "execution_count": 4,
      "outputs": [
        {
          "output_type": "stream",
          "text": [
            "Removed Data Points due to 0 Humidity is: 22\n",
            "Removed Data Points due to 0 Pressure is: 1288\n",
            "Total Data Points before removing 96453\n",
            "Total Data Points after removing 95143\n"
          ],
          "name": "stdout"
        }
      ]
    },
    {
      "cell_type": "code",
      "metadata": {
        "id": "D1eal4sbnfFC",
        "colab_type": "code",
        "outputId": "30600994-9a97-48bd-e4a7-15cbd7344d6a",
        "colab": {
          "base_uri": "https://localhost:8080/",
          "height": 1000
        }
      },
      "source": [
        "plt.figure(1)\n",
        "plt.scatter(ntemp, nrain)\n",
        "plt.xlabel('Temperature (C)')\n",
        "plt.ylabel('Rain')\n",
        "plt.title('Rain as a function of Temperature')\n",
        "\n",
        "plt.figure(2)\n",
        "plt.scatter(nhumi, nrain)\n",
        "plt.xlabel('Humidity')\n",
        "plt.ylabel('Rain')\n",
        "plt.title('Rain as a function of Humidity')\n",
        "\n",
        "plt.figure(3)\n",
        "plt.scatter(nwind, nrain)\n",
        "plt.xlabel('Wind Speed (km/h)')\n",
        "plt.ylabel('Rain')\n",
        "plt.title('Rain as a function of Wind Speed')\n",
        "\n",
        "plt.figure(4)\n",
        "plt.scatter(npres, nrain)\n",
        "plt.xlabel('Pressure (millibars)')\n",
        "plt.ylabel('Rain')\n",
        "plt.title('Rain as a function of Pressure')\n",
        "\n",
        "plt.figure(5)\n",
        "plt.scatter(nvisi, nrain)\n",
        "plt.xlabel('Visibility (km)')\n",
        "plt.ylabel('Rain')\n",
        "plt.title('Rain as a function of Visibility')"
      ],
      "execution_count": 5,
      "outputs": [
        {
          "output_type": "execute_result",
          "data": {
            "text/plain": [
              "Text(0.5, 1.0, 'Rain as a function of Visibility')"
            ]
          },
          "metadata": {
            "tags": []
          },
          "execution_count": 5
        },
        {
          "output_type": "display_data",
          "data": {
            "image/png": "[encoded data removed]",
            "text/plain": [
              "<Figure size 432x288 with 1 Axes>"
            ]
          },
          "metadata": {
            "tags": []
          }
        },
        {
          "output_type": "display_data",
          "data": {
            "image/png": "[encoded data removed]",
            "text/plain": [
              "<Figure size 432x288 with 1 Axes>"
            ]
          },
          "metadata": {
            "tags": []
          }
        },
        {
          "output_type": "display_data",
          "data": {
            "image/png": "[encoded data removed]",
            "text/plain": [
              "<Figure size 432x288 with 1 Axes>"
            ]
          },
          "metadata": {
            "tags": []
          }
        },
        {
          "output_type": "display_data",
          "data": {
            "image/png": "[encoded data removed]",
            "text/plain": [
              "<Figure size 432x288 with 1 Axes>"
            ]
          },
          "metadata": {
            "tags": []
          }
        },
        {
          "output_type": "display_data",
          "data": {
            "image/png": "[encoded data removed]",
            "text/plain": [
              "<Figure size 432x288 with 1 Axes>"
            ]
          },
          "metadata": {
            "tags": []
          }
        }
      ]
    },
    {
      "cell_type": "markdown",
      "metadata": {
        "id": "ixR-igNeIBZ6",
        "colab_type": "text"
      },
      "source": [
        "Prediction: Rain: As Temp goes up, Humidity goes up, Wind up, Pressure down, visibility down"
      ]
    },
    {
      "cell_type": "markdown",
      "metadata": {
        "id": "YkoLEOy8Jwmz",
        "colab_type": "text"
      },
      "source": [
        "This model is able to avoid being overfitted due to the sheer volume of data being trained relative to the number of parameters (~90,000 data points, 6 parameters)"
      ]
    },
    {
      "cell_type": "code",
      "metadata": {
        "id": "CL0T3ZjyULkB",
        "colab_type": "code",
        "outputId": "e95a7ce0-0593-4a5b-fdec-f6f30378d458",
        "colab": {
          "base_uri": "https://localhost:8080/",
          "height": 118
        }
      },
      "source": [
        "nweather = sm.tools.add_constant(nowweat)\n",
        "\n",
        "trainFraction = .9\n",
        "np.random.seed(0)\n",
        "sample = np.random.uniform(size = len(nrain)) < trainFraction\n",
        "\n",
        "xtraining = nweather[sample]\n",
        "xtesting = nweather[~sample]\n",
        "ytraining = nrain[sample]\n",
        "ytesting = nrain[~sample]\n",
        "\n",
        "print('Training data points:', len(xtraining))\n",
        "print('Testing data points:', len(xtesting))\n",
        "\n",
        "fit = sm.discrete.discrete_model.Logit(ytraining, xtraining).fit()\n",
        "\n",
        "B0, BT, BH, BW, BP, BV = fit.params\n",
        "print('b0 = ', B0, ' bTemp = ', BT, ' bHum = ', BH, 'bWind = ', BW, 'bPres = ', BP, 'bVis = ', BV)"
      ],
      "execution_count": 6,
      "outputs": [
        {
          "output_type": "stream",
          "text": [
            "Training data points: 85614\n",
            "Testing data points: 9528\n",
            "Optimization terminated successfully.\n",
            "         Current function value: 0.112210\n",
            "         Iterations 10\n",
            "b0 =  2.407375289992787  bTemp =  0.6987701563768447  bHum =  2.73125922417899 bWind =  0.005744630628645644 bPres =  -0.005055623064470497 bVis =  0.05363434554324529\n"
          ],
          "name": "stdout"
        }
      ]
    },
    {
      "cell_type": "markdown",
      "metadata": {
        "id": "_DBvA2qVIz1A",
        "colab_type": "text"
      },
      "source": [
        "Predictions as expected, except for visibility"
      ]
    },
    {
      "cell_type": "markdown",
      "metadata": {
        "id": "__QuBAizI4I9",
        "colab_type": "text"
      },
      "source": [
        "Log-odds ratio most sensitive to change in humidity, followed by temperature, then visibility, wind speed, and finally pressure"
      ]
    },
    {
      "cell_type": "code",
      "metadata": {
        "id": "QtoXSweTnmmp",
        "colab_type": "code",
        "outputId": "84cc5e0e-2bad-420d-b52c-764e1ed6fb4b",
        "colab": {
          "base_uri": "https://localhost:8080/",
          "height": 401
        }
      },
      "source": [
        "fit.summary()"
      ],
      "execution_count": 7,
      "outputs": [
        {
          "output_type": "execute_result",
          "data": {
            "text/html": [
              "<table class=\"simpletable\">\n",
              "<caption>Logit Regression Results</caption>\n",
              "<tr>\n",
              "  <th>Dep. Variable:</th>           <td>y</td>        <th>  No. Observations:  </th>  <td> 85614</td> \n",
              "</tr>\n",
              "<tr>\n",
              "  <th>Model:</th>                 <td>Logit</td>      <th>  Df Residuals:      </th>  <td> 85608</td> \n",
              "</tr>\n",
              "<tr>\n",
              "  <th>Method:</th>                 <td>MLE</td>       <th>  Df Model:          </th>  <td>     5</td> \n",
              "</tr>\n",
              "<tr>\n",
              "  <th>Date:</th>            <td>Mon, 07 Oct 2019</td> <th>  Pseudo R-squ.:     </th>  <td>0.6872</td> \n",
              "</tr>\n",
              "<tr>\n",
              "  <th>Time:</th>                <td>16:52:26</td>     <th>  Log-Likelihood:    </th> <td> -9606.8</td>\n",
              "</tr>\n",
              "<tr>\n",
              "  <th>converged:</th>             <td>True</td>       <th>  LL-Null:           </th> <td> -30716.</td>\n",
              "</tr>\n",
              "<tr>\n",
              "  <th>Covariance Type:</th>     <td>nonrobust</td>    <th>  LLR p-value:       </th>  <td> 0.000</td> \n",
              "</tr>\n",
              "</table>\n",
              "<table class=\"simpletable\">\n",
              "<tr>\n",
              "    <td></td>       <th>coef</th>     <th>std err</th>      <th>z</th>      <th>P>|z|</th>  <th>[0.025</th>    <th>0.975]</th>  \n",
              "</tr>\n",
              "<tr>\n",
              "  <th>const</th> <td>    2.4074</td> <td>    2.329</td> <td>    1.034</td> <td> 0.301</td> <td>   -2.157</td> <td>    6.972</td>\n",
              "</tr>\n",
              "<tr>\n",
              "  <th>x1</th>    <td>    0.6988</td> <td>    0.008</td> <td>   85.846</td> <td> 0.000</td> <td>    0.683</td> <td>    0.715</td>\n",
              "</tr>\n",
              "<tr>\n",
              "  <th>x2</th>    <td>    2.7313</td> <td>    0.211</td> <td>   12.928</td> <td> 0.000</td> <td>    2.317</td> <td>    3.145</td>\n",
              "</tr>\n",
              "<tr>\n",
              "  <th>x3</th>    <td>    0.0057</td> <td>    0.003</td> <td>    1.854</td> <td> 0.064</td> <td>   -0.000</td> <td>    0.012</td>\n",
              "</tr>\n",
              "<tr>\n",
              "  <th>x4</th>    <td>   -0.0051</td> <td>    0.002</td> <td>   -2.283</td> <td> 0.022</td> <td>   -0.009</td> <td>   -0.001</td>\n",
              "</tr>\n",
              "<tr>\n",
              "  <th>x5</th>    <td>    0.0536</td> <td>    0.005</td> <td>   10.618</td> <td> 0.000</td> <td>    0.044</td> <td>    0.064</td>\n",
              "</tr>\n",
              "</table><br/><br/>Possibly complete quasi-separation: A fraction 0.45 of observations can be<br/>perfectly predicted. This might indicate that there is complete<br/>quasi-separation. In this case some parameters will not be identified."
            ],
            "text/plain": [
              "<class 'statsmodels.iolib.summary.Summary'>\n",
              "\"\"\"\n",
              "                           Logit Regression Results                           \n",
              "==============================================================================\n",
              "Dep. Variable:                      y   No. Observations:                85614\n",
              "Model:                          Logit   Df Residuals:                    85608\n",
              "Method:                           MLE   Df Model:                            5\n",
              "Date:                Mon, 07 Oct 2019   Pseudo R-squ.:                  0.6872\n",
              "Time:                        16:52:26   Log-Likelihood:                -9606.8\n",
              "converged:                       True   LL-Null:                       -30716.\n",
              "Covariance Type:            nonrobust   LLR p-value:                     0.000\n",
              "==============================================================================\n",
              "                 coef    std err          z      P>|z|      [0.025      0.975]\n",
              "------------------------------------------------------------------------------\n",
              "const          2.4074      2.329      1.034      0.301      -2.157       6.972\n",
              "x1             0.6988      0.008     85.846      0.000       0.683       0.715\n",
              "x2             2.7313      0.211     12.928      0.000       2.317       3.145\n",
              "x3             0.0057      0.003      1.854      0.064      -0.000       0.012\n",
              "x4            -0.0051      0.002     -2.283      0.022      -0.009      -0.001\n",
              "x5             0.0536      0.005     10.618      0.000       0.044       0.064\n",
              "==============================================================================\n",
              "\n",
              "Possibly complete quasi-separation: A fraction 0.45 of observations can be\n",
              "perfectly predicted. This might indicate that there is complete\n",
              "quasi-separation. In this case some parameters will not be identified.\n",
              "\"\"\""
            ]
          },
          "metadata": {
            "tags": []
          },
          "execution_count": 7
        }
      ]
    },
    {
      "cell_type": "code",
      "metadata": {
        "id": "_3QSSjG6eaq4",
        "colab_type": "code",
        "outputId": "3bf85d23-1f9f-4080-e0b0-71ecd41ba340",
        "colab": {
          "base_uri": "https://localhost:8080/",
          "height": 118
        }
      },
      "source": [
        "lw = sm.tools.add_constant(lastweat, has_constant='add')\n",
        "lastday = fit.predict(lw)\n",
        "\n",
        "tTesting = (fit.predict(xtesting))\n",
        "tTTesting = tTesting.tolist()\n",
        "ytest = ytesting.tolist()   \n",
        "fpr, tpr, threshold = skl.metrics.roc_curve(ytesting, tTesting)\n",
        " \n",
        "roc_auc = skl.metrics.auc(fpr, tpr)\n",
        "spec = []\n",
        "for i in range(len(fpr)):\n",
        "  spec.append(1 - fpr[i])  \n",
        "  \n",
        "ypredd = []\n",
        "tT = list(tTesting)\n",
        "\n",
        "accuracy = []  \n",
        "for i in range(len(threshold)):\n",
        "  fre = []\n",
        "  acc = []\n",
        "  for j in range(len(tTTesting)):\n",
        "    if tTTesting[j] > threshold[i]:\n",
        "      fre.append(1)\n",
        "    else:\n",
        "      fre.append(0)\n",
        "    if fre[j] == ytest[j]:\n",
        "      acc.append(1)\n",
        "    else:\n",
        "      acc.append(0)\n",
        "  accuracy.append(np.mean(acc))    \n",
        "   \n",
        "maxacc = max(accuracy)\n",
        "print('Maximum Accuracy attainable from the model:', maxacc)\n",
        "accind = accuracy.index(maxacc)\n",
        "threshG = threshold[accind]\n",
        "print('Threshold to attain maximum accuracy:', threshG)\n",
        "sens = tpr[accind]\n",
        "print('True Positive Rate (Sensitivity) with selected Threshold:', sens)\n",
        "specc = spec[accind]\n",
        "print('True Negative Rate (Specificity) with selected Threshold:', specc)    \n",
        "\n",
        "print('The Model predicts rain on the last day:', (lastday > threshG)[0])\n",
        "print('It actually rains on the last day:', lastrain == 1)\n",
        "  \n"
      ],
      "execution_count": 8,
      "outputs": [
        {
          "output_type": "stream",
          "text": [
            "Maximum Accuracy attainable from the model: 0.9725020990764064\n",
            "Threshold to attain maximum accuracy: 0.531790610400764\n",
            "True Positive Rate (Sensitivity) with selected Threshold: 0.988252046991812\n",
            "True Negative Rate (Specificity) with selected Threshold: 0.8510445049954587\n",
            "The Model predicts rain on the last day: True\n",
            "It actually rains on the last day: True\n"
          ],
          "name": "stdout"
        }
      ]
    },
    {
      "cell_type": "code",
      "metadata": {
        "id": "LsqFKGHzDa4T",
        "colab_type": "code",
        "outputId": "ae381406-7692-4175-e250-661e8c51634a",
        "colab": {
          "base_uri": "https://localhost:8080/",
          "height": 573
        }
      },
      "source": [
        "plt.figure(1)\n",
        "plt.title('Receiver Operating Characteristic Curve')\n",
        "plt.plot(fpr, tpr, 'b')\n",
        "plt.scatter(1-specc, sens)\n",
        "plt.plot([0, 1], [0, 1],'r--')\n",
        "plt.legend(['AUC = %0.2f' % roc_auc, 'y = x', 'Threshold'])\n",
        "plt.xlim([0, 1])\n",
        "plt.ylim([0, 1])\n",
        "plt.ylabel('True Positive Rate (Sensitivity)')\n",
        "plt.xlabel('False Positive Rate (1 - Specificity)')\n",
        "\n",
        "plt.figure(2)\n",
        "plt.plot(threshold, tpr)\n",
        "plt.scatter(threshG, tpr[accind])\n",
        "plt.plot(threshold, spec)\n",
        "plt.scatter(threshG, spec[accind])\n",
        "plt.plot(threshold, accuracy)\n",
        "plt.scatter(threshG, accuracy[accind])\n",
        "plt.plot([threshG, threshG], [0, 1.1], 'b--')\n",
        "plt.title('Threshold Graphs')\n",
        "plt.xlim([0, 1])\n",
        "plt.ylim([0, 1.1])\n",
        "plt.ylabel('Sensitivity/Specificity/Accuracy')\n",
        "plt.xlabel('Threshold')\n",
        "plt.legend(['Sensitivity', 'Specificity', 'Accuracy', 'Threshold'])\n",
        "plt.show()"
      ],
      "execution_count": 9,
      "outputs": [
        {
          "output_type": "display_data",
          "data": {
            "image/png": "[encoded data removed]",
            "text/plain": [
              "<Figure size 432x288 with 1 Axes>"
            ]
          },
          "metadata": {
            "tags": []
          }
        },
        {
          "output_type": "display_data",
          "data": {
            "image/png": "[encoded data removed]",
            "text/plain": [
              "<Figure size 432x288 with 1 Axes>"
            ]
          },
          "metadata": {
            "tags": []
          }
        }
      ]
    }
  ]
}